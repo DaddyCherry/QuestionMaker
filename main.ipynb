{
 "cells": [
  {
   "cell_type": "markdown",
   "metadata": {},
   "source": [
    "To get started, run the following commands to install the module for OpenAI."
   ]
  },
  {
   "cell_type": "code",
   "execution_count": null,
   "metadata": {},
   "outputs": [],
   "source": [
    "!pip install openai"
   ]
  },
  {
   "cell_type": "markdown",
   "metadata": {},
   "source": [
    "# Initialize the Azure OpenAI environment variables and define function\n",
    "\n",
    "The first step is to initialize the environment variables with the API key and endpoint URL issued by your Azure OpenAI resource. This will allow you to access the OpenAI service in the subsequent processing.\n",
    "\n",
    "Next, you define a function that interacts with the OpenAI service. This function generates questions using the specified model and prompt (input text). You can adjust the length and diversity of the generated questions through the function's arguments.\n",
    "\n",
    "Inside the function, it establishes a connection to Azure OpenAI using the API information retrieved from the environment variables, and then calls the OpenAI API to generate the question. The generated question is returned as text.\n",
    "\n",
    "With these preparations, you can generate questions from Azure OpenAI's language model simply by specifying the appropriate model and prompt, then executing the function."
   ]
  },
  {
   "cell_type": "code",
   "execution_count": 38,
   "metadata": {},
   "outputs": [],
   "source": [
    "import os\n",
    "from openai import AzureOpenAI # This test openai version is 1.13.3\n",
    "import json\n",
    "\n",
    "# Load config values\n",
    "with open(r'config.json') as config_file:\n",
    "    config_details = json.load(config_file)\n",
    "\n",
    "client = AzureOpenAI(\n",
    "  azure_endpoint = config_details[\"OPENAI_API_BASE\"], \n",
    "  api_key=config_details[\"OPENAI_API_KEY\"],\n",
    "  api_version=config_details[\"OPENAI_API_VERSION\"]\n",
    ")\n",
    "\n",
    "\n",
    "\n",
    "def create_question(url, question_num):\n",
    "\n",
    "    print(\"Creating a question based on the URL. Please wait...\")\n",
    "\n",
    "    message_text = [\n",
    "        {\"role\":\"system\",\n",
    "        \"content\":\"You provide a problem against Azure learners. Please create a four-choice question based on the contents of the specified URL. Make a set of questions and answers. Please include a brief explanation of the answer. The number of questions to create is \"+str(question_num)+\".\"},\n",
    "        {\"role\":\"user\",\n",
    "        \"content\":url}\n",
    "    ]\n",
    "\n",
    "    completion = client.chat.completions.create(\n",
    "    model=config_details[\"DEPLOYMENT_NAME\"], # model = \"deployment_name\"\n",
    "    messages = message_text,\n",
    "    temperature=0.7,\n",
    "    max_tokens=800,\n",
    "    top_p=0.95,\n",
    "    frequency_penalty=0,\n",
    "    presence_penalty=0,\n",
    "    stop=None\n",
    "    )\n",
    "\n",
    "    print(completion.choices[0].message.content)"
   ]
  },
  {
   "cell_type": "markdown",
   "metadata": {},
   "source": [
    "It's very simple after that. Please run the following code. By changing the URL, the content of the generated question will vary, so you should find it enjoyable. Question generation takes around 10 seconds."
   ]
  },
  {
   "cell_type": "code",
   "execution_count": 36,
   "metadata": {},
   "outputs": [
    {
     "name": "stdout",
     "output_type": "stream",
     "text": [
      "Creating a question based on the URL. Please wait...\n",
      "Question 1:\n",
      "What is Azure App Service?\n",
      "A) A service that allows you to deploy and manage containerized applications\n",
      "B) A service that provides virtual machines for running applications\n",
      "C) A service that enables you to build, deploy, and scale web apps and APIs\n",
      "D) A service that provides cloud storage for files and data\n",
      "\n",
      "Answer: C) A service that enables you to build, deploy, and scale web apps and APIs\n",
      "\n",
      "Explanation: Azure App Service is a fully managed platform that allows you to build, deploy, and scale web apps, mobile app backends, and RESTful APIs. It provides features like automatic scaling, continuous deployment, and integration with other Azure services.\n",
      "\n",
      "Question 2:\n",
      "What are the deployment options available in Azure App Service?\n",
      "A) Virtual machines and Kubernetes\n",
      "B) Containers and serverless functions\n",
      "C) Web apps and mobile apps\n",
      "D) All of the above\n",
      "\n",
      "Answer: D) All of the above\n",
      "\n",
      "Explanation: Azure App Service supports a variety of deployment options including web apps, mobile app backends, RESTful APIs, virtual machines, Kubernetes, containers, and serverless functions. This allows developers to choose the most suitable deployment option for their application.\n",
      "\n",
      "Question 3:\n",
      "What are the benefits of using Azure App Service?\n",
      "A) Automated scaling to handle traffic spikes\n",
      "B) Continuous deployment for faster release cycles\n",
      "C) Integration with Azure services like Azure SQL Database and Azure Functions\n",
      "D) All of the above\n",
      "\n",
      "Answer: D) All of the above\n",
      "\n",
      "Explanation: Azure App Service provides automated scaling, allowing your application to handle traffic spikes without manual intervention. It also supports continuous deployment, enabling faster release cycles. Additionally, it integrates seamlessly with other Azure services like Azure SQL Database and Azure Functions, providing a comprehensive platform for building and deploying applications.\n",
      "\n",
      "Question 4:\n",
      "Which programming languages are supported by Azure App Service?\n",
      "A) Java, C#, and Python\n",
      "B) JavaScript, Ruby, and PHP\n",
      "C) PowerShell, Go, and TypeScript\n",
      "D) All of the above\n",
      "\n",
      "Answer: D) All of the above\n",
      "\n",
      "Explanation: Azure App Service supports a wide range of programming languages including Java, C#, Python, JavaScript, Ruby, PHP, PowerShell, Go, and TypeScript. This allows developers to use their preferred language for building applications on the platform.\n",
      "\n",
      "Question 5:\n",
      "What are the deployment slots in Azure App Service?\n",
      "A) Slots for deploying virtual machines\n",
      "B) Slots for deploying containerized applications\n",
      "C) Slots for deploying different versions of an app for testing and staging\n",
      "D) Slots for deploying serverless functions\n",
      "\n",
      "Answer: C) Slots for deploying different versions of an app for testing and staging\n",
      "\n",
      "Explanation: Deployment slots in Azure App Service allow you to deploy different versions of your application for testing, staging, or other purposes. This enables you to perform testing and validation before swapping the slots to make a new version of the application live.\n"
     ]
    }
   ],
   "source": [
    "\n",
    "url = 'https://learn.microsoft.com/en-us/azure/app-service/overview'\n",
    "question_num = 5\n",
    "\n",
    "create_question(url, question_num)"
   ]
  },
  {
   "cell_type": "markdown",
   "metadata": {},
   "source": [
    "I'll provide another sample:"
   ]
  },
  {
   "cell_type": "code",
   "execution_count": 37,
   "metadata": {},
   "outputs": [
    {
     "name": "stdout",
     "output_type": "stream",
     "text": [
      "Creating a question based on the URL. Please wait...\n",
      "Question 1:\n",
      "What is the purpose of Azure Load Balancer?\n",
      "A) To distribute network traffic across multiple virtual machines\n",
      "B) To automatically scale virtual machines based on demand\n",
      "C) To provide secure access to virtual machines\n",
      "D) To manage and monitor virtual machine performance\n",
      "\n",
      "Question 2:\n",
      "Which protocol does Azure Load Balancer support for load balancing?\n",
      "A) HTTP and HTTPS\n",
      "B) FTP and SFTP\n",
      "C) SMTP and POP3\n",
      "D) TCP and UDP\n",
      "\n",
      "Question 3:\n",
      "Which type of load balancing algorithm does Azure Load Balancer use?\n",
      "A) Round Robin\n",
      "B) Source IP Hash\n",
      "C) Least Connections\n",
      "D) Random\n",
      "\n",
      "Question 4:\n",
      "True or False: Azure Load Balancer can be used to distribute traffic between virtual machines in different availability zones.\n",
      "A) True\n",
      "B) False\n",
      "\n",
      "Question 5:\n",
      "Which Azure service works with Azure Load Balancer to provide global load balancing?\n",
      "A) Azure Traffic Manager\n",
      "B) Azure Application Gateway\n",
      "C) Azure Front Door\n",
      "D) Azure CDN\n",
      "\n",
      "Answer 1: A) To distribute network traffic across multiple virtual machines\n",
      "Explanation: Azure Load Balancer is used to distribute incoming network traffic across multiple virtual machines (VMs) to ensure high availability and scalability.\n",
      "\n",
      "Answer 2: D) TCP and UDP\n",
      "Explanation: Azure Load Balancer supports load balancing of TCP and UDP traffic.\n",
      "\n",
      "Answer 3: A) Round Robin\n",
      "Explanation: Azure Load Balancer uses a round-robin algorithm by default, where each incoming request is distributed to the next available VM in a circular order.\n",
      "\n",
      "Answer 4: A) True\n",
      "Explanation: Azure Load Balancer can distribute traffic between virtual machines in different availability zones, providing high availability and fault tolerance.\n",
      "\n",
      "Answer 5: A) Azure Traffic Manager\n",
      "Explanation: Azure Traffic Manager works with Azure Load Balancer to provide global load balancing by directing traffic to different endpoints based on configured routing rules and health probes.\n"
     ]
    }
   ],
   "source": [
    "url = 'https://learn.microsoft.com/en-us/azure/load-balancer/load-balancer-overview'\n",
    "question_num = 5\n",
    "\n",
    "create_question(url, question_num)"
   ]
  },
  {
   "cell_type": "markdown",
   "metadata": {},
   "source": [
    "With this approach, you can generate questions incredibly easily. For learners studying Azure, they would certainly want to create simple tests to verify their knowledge. Please enjoy utilizing this for your deliveries."
   ]
  }
 ],
 "metadata": {
  "kernelspec": {
   "display_name": "venv",
   "language": "python",
   "name": "python3"
  },
  "language_info": {
   "codemirror_mode": {
    "name": "ipython",
    "version": 3
   },
   "file_extension": ".py",
   "mimetype": "text/x-python",
   "name": "python",
   "nbconvert_exporter": "python",
   "pygments_lexer": "ipython3",
   "version": "3.8.10"
  }
 },
 "nbformat": 4,
 "nbformat_minor": 2
}
