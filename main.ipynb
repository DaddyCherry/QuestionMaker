{
 "cells": [
  {
   "cell_type": "markdown",
   "metadata": {},
   "source": [
    "To get started, run the following commands to install the module for running Python notebooks and accessing OpenAI.\n",
    "\n",
    "pip install ipykernel openai"
   ]
  },
  {
   "cell_type": "code",
   "execution_count": 5,
   "metadata": {},
   "outputs": [
    {
     "name": "stderr",
     "output_type": "stream",
     "text": [
      "578.26s - pydevd: Sending message related to process being replaced timed-out after 5 seconds\n"
     ]
    },
    {
     "name": "stdout",
     "output_type": "stream",
     "text": [
      "Requirement already satisfied: ipykernel in ./venv/lib/python3.8/site-packages (from -r ./requirements.txt (line 1)) (6.29.3)\n",
      "Requirement already satisfied: openai in ./venv/lib/python3.8/site-packages (from -r ./requirements.txt (line 2)) (1.13.3)\n",
      "Requirement already satisfied: tornado>=6.1 in ./venv/lib/python3.8/site-packages (from ipykernel->-r ./requirements.txt (line 1)) (6.4)\n",
      "Requirement already satisfied: matplotlib-inline>=0.1 in ./venv/lib/python3.8/site-packages (from ipykernel->-r ./requirements.txt (line 1)) (0.1.6)\n",
      "Requirement already satisfied: comm>=0.1.1 in ./venv/lib/python3.8/site-packages (from ipykernel->-r ./requirements.txt (line 1)) (0.2.2)\n",
      "Requirement already satisfied: packaging in ./venv/lib/python3.8/site-packages (from ipykernel->-r ./requirements.txt (line 1)) (24.0)\n",
      "Requirement already satisfied: nest-asyncio in ./venv/lib/python3.8/site-packages (from ipykernel->-r ./requirements.txt (line 1)) (1.6.0)\n",
      "Requirement already satisfied: ipython>=7.23.1 in ./venv/lib/python3.8/site-packages (from ipykernel->-r ./requirements.txt (line 1)) (8.12.3)\n",
      "Requirement already satisfied: jupyter-core!=5.0.*,>=4.12 in ./venv/lib/python3.8/site-packages (from ipykernel->-r ./requirements.txt (line 1)) (5.7.2)\n",
      "Requirement already satisfied: psutil in ./venv/lib/python3.8/site-packages (from ipykernel->-r ./requirements.txt (line 1)) (5.9.8)\n",
      "Requirement already satisfied: pyzmq>=24 in ./venv/lib/python3.8/site-packages (from ipykernel->-r ./requirements.txt (line 1)) (25.1.2)\n",
      "Requirement already satisfied: appnope in ./venv/lib/python3.8/site-packages (from ipykernel->-r ./requirements.txt (line 1)) (0.1.4)\n",
      "Requirement already satisfied: debugpy>=1.6.5 in ./venv/lib/python3.8/site-packages (from ipykernel->-r ./requirements.txt (line 1)) (1.8.1)\n",
      "Requirement already satisfied: traitlets>=5.4.0 in ./venv/lib/python3.8/site-packages (from ipykernel->-r ./requirements.txt (line 1)) (5.14.2)\n",
      "Requirement already satisfied: jupyter-client>=6.1.12 in ./venv/lib/python3.8/site-packages (from ipykernel->-r ./requirements.txt (line 1)) (8.6.1)\n",
      "Requirement already satisfied: stack-data in ./venv/lib/python3.8/site-packages (from ipython>=7.23.1->ipykernel->-r ./requirements.txt (line 1)) (0.6.3)\n",
      "Requirement already satisfied: pickleshare in ./venv/lib/python3.8/site-packages (from ipython>=7.23.1->ipykernel->-r ./requirements.txt (line 1)) (0.7.5)\n",
      "Requirement already satisfied: prompt-toolkit!=3.0.37,<3.1.0,>=3.0.30 in ./venv/lib/python3.8/site-packages (from ipython>=7.23.1->ipykernel->-r ./requirements.txt (line 1)) (3.0.43)\n",
      "Requirement already satisfied: backcall in ./venv/lib/python3.8/site-packages (from ipython>=7.23.1->ipykernel->-r ./requirements.txt (line 1)) (0.2.0)\n",
      "Requirement already satisfied: decorator in ./venv/lib/python3.8/site-packages (from ipython>=7.23.1->ipykernel->-r ./requirements.txt (line 1)) (5.1.1)\n",
      "Requirement already satisfied: jedi>=0.16 in ./venv/lib/python3.8/site-packages (from ipython>=7.23.1->ipykernel->-r ./requirements.txt (line 1)) (0.19.1)\n",
      "Requirement already satisfied: typing-extensions in ./venv/lib/python3.8/site-packages (from ipython>=7.23.1->ipykernel->-r ./requirements.txt (line 1)) (4.10.0)\n",
      "Requirement already satisfied: pexpect>4.3 in ./venv/lib/python3.8/site-packages (from ipython>=7.23.1->ipykernel->-r ./requirements.txt (line 1)) (4.9.0)\n",
      "Requirement already satisfied: pygments>=2.4.0 in ./venv/lib/python3.8/site-packages (from ipython>=7.23.1->ipykernel->-r ./requirements.txt (line 1)) (2.17.2)\n",
      "Requirement already satisfied: parso<0.9.0,>=0.8.3 in ./venv/lib/python3.8/site-packages (from jedi>=0.16->ipython>=7.23.1->ipykernel->-r ./requirements.txt (line 1)) (0.8.3)\n",
      "Requirement already satisfied: importlib-metadata>=4.8.3 in ./venv/lib/python3.8/site-packages (from jupyter-client>=6.1.12->ipykernel->-r ./requirements.txt (line 1)) (7.0.2)\n",
      "Requirement already satisfied: python-dateutil>=2.8.2 in ./venv/lib/python3.8/site-packages (from jupyter-client>=6.1.12->ipykernel->-r ./requirements.txt (line 1)) (2.9.0.post0)\n",
      "Requirement already satisfied: zipp>=0.5 in ./venv/lib/python3.8/site-packages (from importlib-metadata>=4.8.3->jupyter-client>=6.1.12->ipykernel->-r ./requirements.txt (line 1)) (3.18.0)\n",
      "Requirement already satisfied: platformdirs>=2.5 in ./venv/lib/python3.8/site-packages (from jupyter-core!=5.0.*,>=4.12->ipykernel->-r ./requirements.txt (line 1)) (4.2.0)\n",
      "Requirement already satisfied: ptyprocess>=0.5 in ./venv/lib/python3.8/site-packages (from pexpect>4.3->ipython>=7.23.1->ipykernel->-r ./requirements.txt (line 1)) (0.7.0)\n",
      "Requirement already satisfied: wcwidth in ./venv/lib/python3.8/site-packages (from prompt-toolkit!=3.0.37,<3.1.0,>=3.0.30->ipython>=7.23.1->ipykernel->-r ./requirements.txt (line 1)) (0.2.13)\n",
      "Requirement already satisfied: six>=1.5 in ./venv/lib/python3.8/site-packages (from python-dateutil>=2.8.2->jupyter-client>=6.1.12->ipykernel->-r ./requirements.txt (line 1)) (1.16.0)\n",
      "Requirement already satisfied: httpx<1,>=0.23.0 in ./venv/lib/python3.8/site-packages (from openai->-r ./requirements.txt (line 2)) (0.27.0)\n",
      "Requirement already satisfied: pydantic<3,>=1.9.0 in ./venv/lib/python3.8/site-packages (from openai->-r ./requirements.txt (line 2)) (2.6.4)\n",
      "Requirement already satisfied: sniffio in ./venv/lib/python3.8/site-packages (from openai->-r ./requirements.txt (line 2)) (1.3.1)\n",
      "Requirement already satisfied: anyio<5,>=3.5.0 in ./venv/lib/python3.8/site-packages (from openai->-r ./requirements.txt (line 2)) (4.3.0)\n",
      "Requirement already satisfied: tqdm>4 in ./venv/lib/python3.8/site-packages (from openai->-r ./requirements.txt (line 2)) (4.66.2)\n",
      "Requirement already satisfied: distro<2,>=1.7.0 in ./venv/lib/python3.8/site-packages (from openai->-r ./requirements.txt (line 2)) (1.9.0)\n",
      "Requirement already satisfied: exceptiongroup>=1.0.2 in ./venv/lib/python3.8/site-packages (from anyio<5,>=3.5.0->openai->-r ./requirements.txt (line 2)) (1.2.0)\n",
      "Requirement already satisfied: idna>=2.8 in ./venv/lib/python3.8/site-packages (from anyio<5,>=3.5.0->openai->-r ./requirements.txt (line 2)) (3.6)\n",
      "Requirement already satisfied: httpcore==1.* in ./venv/lib/python3.8/site-packages (from httpx<1,>=0.23.0->openai->-r ./requirements.txt (line 2)) (1.0.4)\n",
      "Requirement already satisfied: certifi in ./venv/lib/python3.8/site-packages (from httpx<1,>=0.23.0->openai->-r ./requirements.txt (line 2)) (2024.2.2)\n",
      "Requirement already satisfied: h11<0.15,>=0.13 in ./venv/lib/python3.8/site-packages (from httpcore==1.*->httpx<1,>=0.23.0->openai->-r ./requirements.txt (line 2)) (0.14.0)\n",
      "Requirement already satisfied: pydantic-core==2.16.3 in ./venv/lib/python3.8/site-packages (from pydantic<3,>=1.9.0->openai->-r ./requirements.txt (line 2)) (2.16.3)\n",
      "Requirement already satisfied: annotated-types>=0.4.0 in ./venv/lib/python3.8/site-packages (from pydantic<3,>=1.9.0->openai->-r ./requirements.txt (line 2)) (0.6.0)\n",
      "Requirement already satisfied: asttokens>=2.1.0 in ./venv/lib/python3.8/site-packages (from stack-data->ipython>=7.23.1->ipykernel->-r ./requirements.txt (line 1)) (2.4.1)\n",
      "Requirement already satisfied: executing>=1.2.0 in ./venv/lib/python3.8/site-packages (from stack-data->ipython>=7.23.1->ipykernel->-r ./requirements.txt (line 1)) (2.0.1)\n",
      "Requirement already satisfied: pure-eval in ./venv/lib/python3.8/site-packages (from stack-data->ipython>=7.23.1->ipykernel->-r ./requirements.txt (line 1)) (0.2.2)\n",
      "\u001b[33mWARNING: You are using pip version 21.1.1; however, version 24.0 is available.\n",
      "You should consider upgrading via the '/Users/masato/Desktop/git_work/QuestionMaker/venv/bin/python -m pip install --upgrade pip' command.\u001b[0m\n",
      "Note: you may need to restart the kernel to use updated packages.\n"
     ]
    }
   ],
   "source": [
    "pip install -r ./requirements.txt"
   ]
  },
  {
   "cell_type": "markdown",
   "metadata": {},
   "source": [
    "### Initialize the Azure OpenAI environment variables"
   ]
  },
  {
   "cell_type": "code",
   "execution_count": 32,
   "metadata": {},
   "outputs": [],
   "source": [
    "import os\n",
    "from openai import AzureOpenAI # This test openai version is 1.13.3\n",
    "import json\n",
    "\n",
    "# Load config values\n",
    "with open(r'config.json') as config_file:\n",
    "    config_details = json.load(config_file)\n",
    "\n",
    "client = AzureOpenAI(\n",
    "  azure_endpoint = config_details[\"OPENAI_API_BASE\"], \n",
    "  api_key=config_details[\"OPENAI_API_KEY\"],\n",
    "  api_version=config_details[\"OPENAI_API_VERSION\"]\n",
    ")\n",
    "\n",
    "\n",
    "\n",
    "def create_question(url, question_num):\n",
    "\n",
    "    print(\"Creating a question based on the URL. Please wait...\")\n",
    "\n",
    "    message_text = [\n",
    "        {\"role\":\"system\",\n",
    "        \"content\":\"You provide a problem against Azure learners. Please create a four-choice question based on the contents of the specified URL. Make a set of questions and answers. Please include a brief explanation of the answer. The number of questions to create is \"+str(question_num)+\".\"},\n",
    "        {\"role\":\"user\",\n",
    "        \"content\":url}\n",
    "    ]\n",
    "\n",
    "    completion = client.chat.completions.create(\n",
    "    model=config_details[\"DEPLOYMENT_NAME\"], # model = \"deployment_name\"\n",
    "    messages = message_text,\n",
    "    temperature=0.7,\n",
    "    max_tokens=800,\n",
    "    top_p=0.95,\n",
    "    frequency_penalty=0,\n",
    "    presence_penalty=0,\n",
    "    stop=None\n",
    "    )\n",
    "\n",
    "    print(completion.choices[0].message.content)"
   ]
  },
  {
   "cell_type": "code",
   "execution_count": 33,
   "metadata": {},
   "outputs": [
    {
     "name": "stdout",
     "output_type": "stream",
     "text": [
      "Create a question based on the URL. Please wait...\n",
      "Question 1:\n",
      "Which of the following best describes Azure App Service?\n",
      "A) A service for hosting virtual machines in the cloud\n",
      "B) A platform for managing and scaling web applications\n",
      "C) A tool for managing and monitoring databases in Azure\n",
      "D) A service for managing networking resources in Azure\n",
      "\n",
      "Answer: B) A platform for managing and scaling web applications\n",
      "Explanation: Azure App Service is a fully managed platform for building, deploying, and scaling web applications. It supports multiple programming languages and frameworks, and provides features such as automatic scaling, continuous deployment, and integration with other Azure services.\n",
      "\n",
      "Question 2:\n",
      "What are the benefits of using Azure App Service?\n",
      "A) Scalability and high availability\n",
      "B) Easy integration with other Azure services\n",
      "C) Built-in support for multiple programming languages\n",
      "D) All of the above\n",
      "\n",
      "Answer: D) All of the above\n",
      "Explanation: Azure App Service offers scalability and high availability for web applications, making it easy to handle increased traffic and ensure reliability. It also provides seamless integration with other Azure services, allowing developers to take advantage of additional functionalities. Additionally, Azure App Service supports multiple programming languages and frameworks, making it versatile for different development needs.\n",
      "\n",
      "Question 3:\n",
      "Which of the following deployment options are available in Azure App Service?\n",
      "A) Manual deployment from local machine\n",
      "B) Continuous deployment from source control\n",
      "C) Docker container deployment\n",
      "D) All of the above\n",
      "\n",
      "Answer: D) All of the above\n",
      "Explanation: Azure App Service supports various deployment options. Developers can manually deploy their applications from their local machines, set up continuous deployment from source control systems like GitHub or Azure DevOps, or deploy applications using Docker containers.\n",
      "\n",
      "Question 4:\n",
      "What is the purpose of deployment slots in Azure App Service?\n",
      "A) To allow developers to test and stage application updates before swapping them into production\n",
      "B) To provide additional storage space for application files\n",
      "C) To manage and scale virtual machines running the application\n",
      "D) To monitor and analyze application performance\n",
      "\n",
      "Answer: A) To allow developers to test and stage application updates before swapping them into production\n",
      "Explanation: Deployment slots in Azure App Service are used to create separate environments for testing and staging application updates before deploying them to the production environment. This allows developers to validate changes, perform A/B testing, and ensure the stability and reliability of the application before making it live.\n",
      "\n",
      "Question 5:\n",
      "What is the pricing model for Azure App Service?\n",
      "A) Pay-as-you-go\n",
      "B) Fixed monthly subscription\n",
      "C) Free, with limited features\n",
      "D) One-time payment for lifetime access\n",
      "\n",
      "Answer: A) Pay-as-you-go\n",
      "Explanation: Azure App Service follows a pay-as-you-go pricing model, where users are billed based on the resources consumed by their applications. The cost is calculated based on factors such as the number of instances, storage usage, and network bandwidth. There are also different pricing tiers available, offering varying capabilities and features at different price points.\n"
     ]
    }
   ],
   "source": [
    "\n",
    "url = 'https://learn.microsoft.com/en-us/azure/app-service/overview'\n",
    "question_num = 5\n",
    "\n",
    "create_question(url, question_num)"
   ]
  },
  {
   "cell_type": "code",
   "execution_count": 34,
   "metadata": {},
   "outputs": [
    {
     "name": "stdout",
     "output_type": "stream",
     "text": [
      "Create a question based on the URL. Please wait...\n",
      "Question 1:\n",
      "What is the main purpose of Azure Load Balancer?\n",
      "a) To distribute network traffic evenly across multiple virtual machines\n",
      "b) To provide high availability and redundancy for virtual machines\n",
      "c) To improve network performance for virtual machines\n",
      "d) To secure network connections for virtual machines\n",
      "\n",
      "Explanation: The main purpose of Azure Load Balancer is to distribute network traffic evenly across multiple virtual machines, ensuring that the workload is balanced and preventing any single virtual machine from becoming overwhelmed.\n",
      "\n",
      "Question 2:\n",
      "Which protocols are supported by Azure Load Balancer?\n",
      "a) TCP, UDP, and HTTP\n",
      "b) TCP, UDP, and FTP\n",
      "c) TCP, UDP, and ICMP\n",
      "d) TCP, UDP, and SMTP\n",
      "\n",
      "Explanation: Azure Load Balancer supports TCP, UDP, and HTTP protocols. These protocols cover a wide range of applications and services that can benefit from load balancing.\n",
      "\n",
      "Question 3:\n",
      "Which type of load balancing does Azure Load Balancer use?\n",
      "a) Layer 4 (Transport Layer) load balancing\n",
      "b) Layer 3 (Network Layer) load balancing\n",
      "c) Layer 7 (Application Layer) load balancing\n",
      "d) Layer 2 (Data Link Layer) load balancing\n",
      "\n",
      "Explanation: Azure Load Balancer uses Layer 4 (Transport Layer) load balancing. It distributes traffic based on source IP address and port, destination IP address and port, and protocol type.\n",
      "\n",
      "Question 4:\n",
      "What is the difference between Azure Load Balancer and Azure Application Gateway?\n",
      "a) Azure Load Balancer operates at the transport layer, while Azure Application Gateway operates at the application layer.\n",
      "b) Azure Load Balancer provides SSL termination, while Azure Application Gateway does not.\n",
      "c) Azure Load Balancer supports only TCP and UDP protocols, while Azure Application Gateway supports HTTP and HTTPS protocols.\n",
      "d) Azure Load Balancer is a regional service, while Azure Application Gateway is a global service.\n",
      "\n",
      "Explanation: The main difference between Azure Load Balancer and Azure Application Gateway is that Azure Load Balancer operates at the transport layer (Layer 4), distributing traffic based on IP address and port, while Azure Application Gateway operates at the application layer (Layer 7), providing advanced application delivery features such as SSL termination, URL-based routing, and cookie-based session affinity.\n",
      "\n",
      "Question 5:\n",
      "Which Azure service can be used in conjunction with Azure Load Balancer to provide global load balancing across multiple regions?\n",
      "a) Azure Traffic Manager\n",
      "b) Azure Front Door\n",
      "c) Azure Content Delivery Network (CDN)\n",
      "d) Azure Global Traffic Manager\n",
      "\n",
      "Explanation: Azure Global Traffic Manager can be used in conjunction with Azure Load Balancer to provide global load balancing across multiple regions. It routes traffic to the closest available endpoint based on the user's geographic location, ensuring low-latency and high-performance access to applications.\n"
     ]
    }
   ],
   "source": [
    "url = 'https://learn.microsoft.com/en-us/azure/load-balancer/load-balancer-overview'\n",
    "question_num = 5\n",
    "\n",
    "create_question(url, question_num)"
   ]
  }
 ],
 "metadata": {
  "kernelspec": {
   "display_name": "venv",
   "language": "python",
   "name": "python3"
  },
  "language_info": {
   "codemirror_mode": {
    "name": "ipython",
    "version": 3
   },
   "file_extension": ".py",
   "mimetype": "text/x-python",
   "name": "python",
   "nbconvert_exporter": "python",
   "pygments_lexer": "ipython3",
   "version": "3.8.10"
  }
 },
 "nbformat": 4,
 "nbformat_minor": 2
}
